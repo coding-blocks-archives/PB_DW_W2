{
 "cells": [
  {
   "cell_type": "code",
   "execution_count": 3,
   "metadata": {},
   "outputs": [],
   "source": [
    "def parrot(power , state = 5 , action= 'fly', origin='indian'):\n",
    "    print('--this parrot would not' , action, end='')\n",
    "    print(', uf you put' , power , 'volts it will fly')\n",
    "    print('Its origin is', origin)\n",
    "    print('-- currently', state, '!!')"
   ]
  },
  {
   "cell_type": "code",
   "execution_count": 4,
   "metadata": {},
   "outputs": [
    {
     "name": "stdout",
     "output_type": "stream",
     "text": [
      "--this parrot would not fly, uf you put 10 volts it will fly\n",
      "Its origin is indian\n",
      "-- currently 5 !!\n"
     ]
    }
   ],
   "source": [
    "parrot(10)    # one positional argument"
   ]
  },
  {
   "cell_type": "code",
   "execution_count": 5,
   "metadata": {},
   "outputs": [
    {
     "name": "stdout",
     "output_type": "stream",
     "text": [
      "--this parrot would not fly, uf you put 10 volts it will fly\n",
      "Its origin is indian\n",
      "-- currently 5 !!\n"
     ]
    }
   ],
   "source": [
    "parrot(power= 10)  # one keyword argument"
   ]
  },
  {
   "cell_type": "code",
   "execution_count": 6,
   "metadata": {},
   "outputs": [
    {
     "name": "stdout",
     "output_type": "stream",
     "text": [
      "--this parrot would not swim, uf you put 10 volts it will fly\n",
      "Its origin is indian\n",
      "-- currently 5 !!\n"
     ]
    }
   ],
   "source": [
    "parrot(power = 10 , action = 'swim')"
   ]
  },
  {
   "cell_type": "code",
   "execution_count": 7,
   "metadata": {},
   "outputs": [
    {
     "name": "stdout",
     "output_type": "stream",
     "text": [
      "--this parrot would not swim, uf you put 20 volts it will fly\n",
      "Its origin is indian\n",
      "-- currently 5 !!\n"
     ]
    }
   ],
   "source": [
    "parrot(action ='swim' , power = 20)"
   ]
  },
  {
   "cell_type": "code",
   "execution_count": 8,
   "metadata": {},
   "outputs": [
    {
     "name": "stdout",
     "output_type": "stream",
     "text": [
      "--this parrot would not jump, uf you put a million volts it will fly\n",
      "Its origin is indian\n",
      "-- currently hopping !!\n"
     ]
    }
   ],
   "source": [
    "parrot('a million' , 'hopping' , 'jump')"
   ]
  },
  {
   "cell_type": "code",
   "execution_count": 9,
   "metadata": {},
   "outputs": [
    {
     "name": "stdout",
     "output_type": "stream",
     "text": [
      "--this parrot would not fly, uf you put a thousand volts it will fly\n",
      "Its origin is indian\n",
      "-- currently pushing !!\n"
     ]
    }
   ],
   "source": [
    "parrot('a thousand' , state = 'pushing')"
   ]
  },
  {
   "cell_type": "code",
   "execution_count": 10,
   "metadata": {},
   "outputs": [
    {
     "ename": "SyntaxError",
     "evalue": "positional argument follows keyword argument (<ipython-input-10-62fa822cf2d1>, line 1)",
     "output_type": "error",
     "traceback": [
      "\u001b[0;36m  File \u001b[0;32m\"<ipython-input-10-62fa822cf2d1>\"\u001b[0;36m, line \u001b[0;32m1\u001b[0m\n\u001b[0;31m    parrot(state = 'pushing' , 'a thousand')\u001b[0m\n\u001b[0m                              ^\u001b[0m\n\u001b[0;31mSyntaxError\u001b[0m\u001b[0;31m:\u001b[0m positional argument follows keyword argument\n"
     ]
    }
   ],
   "source": [
    "parrot(state = 'pushing' , 'a thousand')"
   ]
  },
  {
   "cell_type": "code",
   "execution_count": 11,
   "metadata": {},
   "outputs": [
    {
     "ename": "TypeError",
     "evalue": "parrot() got an unexpected keyword argument 'alpha'",
     "output_type": "error",
     "traceback": [
      "\u001b[0;31m---------------------------------------------------------------------------\u001b[0m",
      "\u001b[0;31mTypeError\u001b[0m                                 Traceback (most recent call last)",
      "\u001b[0;32m<ipython-input-11-d1d6a971d17d>\u001b[0m in \u001b[0;36m<module>\u001b[0;34m()\u001b[0m\n\u001b[0;32m----> 1\u001b[0;31m \u001b[0mparrot\u001b[0m\u001b[0;34m(\u001b[0m\u001b[0malpha\u001b[0m \u001b[0;34m=\u001b[0m \u001b[0;34m'usual'\u001b[0m\u001b[0;34m)\u001b[0m\u001b[0;34m\u001b[0m\u001b[0m\n\u001b[0m",
      "\u001b[0;31mTypeError\u001b[0m: parrot() got an unexpected keyword argument 'alpha'"
     ]
    }
   ],
   "source": [
    "parrot(alpha = 'usual')"
   ]
  },
  {
   "cell_type": "markdown",
   "metadata": {},
   "source": [
    "## Function Annotations"
   ]
  },
  {
   "cell_type": "code",
   "execution_count": 12,
   "metadata": {},
   "outputs": [],
   "source": [
    "def sum_two_numbers(a: int , b: int) -> int:\n",
    "    return a+b"
   ]
  },
  {
   "cell_type": "code",
   "execution_count": 13,
   "metadata": {},
   "outputs": [
    {
     "data": {
      "text/plain": [
       "6"
      ]
     },
     "execution_count": 13,
     "metadata": {},
     "output_type": "execute_result"
    }
   ],
   "source": [
    "sum_two_numbers(2,4)"
   ]
  },
  {
   "cell_type": "code",
   "execution_count": 14,
   "metadata": {},
   "outputs": [
    {
     "data": {
      "text/plain": [
       "'hellopython'"
      ]
     },
     "execution_count": 14,
     "metadata": {},
     "output_type": "execute_result"
    }
   ],
   "source": [
    "sum_two_numbers('hello' , 'python')"
   ]
  },
  {
   "cell_type": "code",
   "execution_count": 15,
   "metadata": {},
   "outputs": [
    {
     "data": {
      "text/plain": [
       "{'a': int, 'b': int, 'return': int}"
      ]
     },
     "execution_count": 15,
     "metadata": {},
     "output_type": "execute_result"
    }
   ],
   "source": [
    "sum_two_numbers.__annotations__"
   ]
  },
  {
   "cell_type": "markdown",
   "metadata": {},
   "source": [
    "## Docstrings"
   ]
  },
  {
   "cell_type": "code",
   "execution_count": 16,
   "metadata": {},
   "outputs": [],
   "source": [
    "def my_square(x):\n",
    "    '''This function retuens square of the given input.'''\n",
    "    return x**2"
   ]
  },
  {
   "cell_type": "code",
   "execution_count": 17,
   "metadata": {},
   "outputs": [
    {
     "data": {
      "text/plain": [
       "9"
      ]
     },
     "execution_count": 17,
     "metadata": {},
     "output_type": "execute_result"
    }
   ],
   "source": [
    "my_square(3)"
   ]
  },
  {
   "cell_type": "code",
   "execution_count": 18,
   "metadata": {},
   "outputs": [
    {
     "data": {
      "text/plain": [
       "'This function retuens square of the given input.'"
      ]
     },
     "execution_count": 18,
     "metadata": {},
     "output_type": "execute_result"
    }
   ],
   "source": [
    "my_square.__doc__"
   ]
  },
  {
   "cell_type": "code",
   "execution_count": 19,
   "metadata": {},
   "outputs": [
    {
     "name": "stdout",
     "output_type": "stream",
     "text": [
      "Help on function my_square in module __main__:\n",
      "\n",
      "my_square(x)\n",
      "    This function retuens square of the given input.\n",
      "\n"
     ]
    }
   ],
   "source": [
    "help(my_square)"
   ]
  },
  {
   "cell_type": "code",
   "execution_count": 20,
   "metadata": {},
   "outputs": [
    {
     "name": "stdout",
     "output_type": "stream",
     "text": [
      "10\n"
     ]
    }
   ],
   "source": [
    "n = 10\n",
    "def fun():\n",
    "    print(n)\n",
    "fun()"
   ]
  },
  {
   "cell_type": "code",
   "execution_count": 21,
   "metadata": {},
   "outputs": [
    {
     "name": "stdout",
     "output_type": "stream",
     "text": [
      "5\n"
     ]
    }
   ],
   "source": [
    "x = 100\n",
    "def fun2():\n",
    "    x = 5\n",
    "    print(x)\n",
    "fun2()"
   ]
  },
  {
   "cell_type": "code",
   "execution_count": 22,
   "metadata": {},
   "outputs": [
    {
     "name": "stdout",
     "output_type": "stream",
     "text": [
      "10\n"
     ]
    }
   ],
   "source": [
    "a = 10\n",
    "def fun3():\n",
    "    def fun4():\n",
    "        print(a)\n",
    "    fun4()\n",
    "\n"
   ]
  },
  {
   "cell_type": "code",
   "execution_count": 23,
   "metadata": {},
   "outputs": [
    {
     "name": "stdout",
     "output_type": "stream",
     "text": [
      "10\n",
      "5\n"
     ]
    }
   ],
   "source": [
    "b = 10\n",
    "def fun5():\n",
    "    b = 5\n",
    "    def fun6():\n",
    "        print(b)\n",
    "    fun6()\n",
    "print(b)\n",
    "fun5()"
   ]
  },
  {
   "cell_type": "code",
   "execution_count": 26,
   "metadata": {},
   "outputs": [
    {
     "name": "stdout",
     "output_type": "stream",
     "text": [
      "10\n",
      "15\n",
      "15\n"
     ]
    }
   ],
   "source": [
    "b = 10\n",
    "def fun5():\n",
    "    b = 5\n",
    "    def fun6():\n",
    "        print(b)\n",
    "        def fun7():\n",
    "            print(b)\n",
    "        fun7()\n",
    "    fun6()\n",
    "print(b)\n",
    "fun5()"
   ]
  },
  {
   "cell_type": "code",
   "execution_count": 27,
   "metadata": {},
   "outputs": [],
   "source": [
    "z = 5\n",
    "def out_1():\n",
    "    z = 100\n",
    "    return 'hello'"
   ]
  },
  {
   "cell_type": "code",
   "execution_count": 28,
   "metadata": {},
   "outputs": [
    {
     "ename": "NameError",
     "evalue": "name 'z' is not defined",
     "output_type": "error",
     "traceback": [
      "\u001b[0;31m---------------------------------------------------------------------------\u001b[0m",
      "\u001b[0;31mNameError\u001b[0m                                 Traceback (most recent call last)",
      "\u001b[0;32m<ipython-input-28-86ca5df47f3d>\u001b[0m in \u001b[0;36m<module>\u001b[0;34m()\u001b[0m\n\u001b[1;32m      1\u001b[0m \u001b[0mout_1\u001b[0m\u001b[0;34m(\u001b[0m\u001b[0;34m)\u001b[0m\u001b[0;34m\u001b[0m\u001b[0m\n\u001b[0;32m----> 2\u001b[0;31m \u001b[0mprint\u001b[0m\u001b[0;34m(\u001b[0m\u001b[0mz\u001b[0m\u001b[0;34m)\u001b[0m\u001b[0;34m\u001b[0m\u001b[0m\n\u001b[0m",
      "\u001b[0;31mNameError\u001b[0m: name 'z' is not defined"
     ]
    }
   ],
   "source": [
    "out_1()\n",
    "print(z)"
   ]
  },
  {
   "cell_type": "code",
   "execution_count": 29,
   "metadata": {},
   "outputs": [
    {
     "name": "stdout",
     "output_type": "stream",
     "text": [
      "4386715872\n",
      "4386715872\n",
      "4386715872 fun6\n"
     ]
    }
   ],
   "source": [
    "b = 10\n",
    "print(id(b))\n",
    "def fun5():\n",
    "    print(id(b))\n",
    "    def fun6():\n",
    "        print(id(b) , 'fun6')\n",
    "    fun6()\n",
    "fun5()"
   ]
  },
  {
   "cell_type": "code",
   "execution_count": 30,
   "metadata": {},
   "outputs": [
    {
     "name": "stdout",
     "output_type": "stream",
     "text": [
      "10\n",
      "5\n",
      "1\n"
     ]
    }
   ],
   "source": [
    "c = 10\n",
    "def fun7():\n",
    "    c = 5\n",
    "    def fun8():\n",
    "        c = 1\n",
    "        print(c)\n",
    "    print(c)\n",
    "    fun8()\n",
    "print(c)\n",
    "fun7()"
   ]
  },
  {
   "cell_type": "code",
   "execution_count": 34,
   "metadata": {},
   "outputs": [
    {
     "name": "stdout",
     "output_type": "stream",
     "text": [
      "10000\n"
     ]
    }
   ],
   "source": [
    "alpha = 10000\n",
    "def fun9():\n",
    "    #alpha = 0\n",
    "    def fun10():\n",
    "        #alpha = 8\n",
    "        print(alpha)\n",
    "    fun10()\n",
    "fun9()"
   ]
  },
  {
   "cell_type": "code",
   "execution_count": 37,
   "metadata": {},
   "outputs": [
    {
     "name": "stdout",
     "output_type": "stream",
     "text": [
      "<built-in function open>\n"
     ]
    }
   ],
   "source": [
    "def fun9():\n",
    "    #open = 0\n",
    "    def fun10():\n",
    "        #open = 8\n",
    "        print(open)\n",
    "    fun10()\n",
    "fun9()"
   ]
  },
  {
   "cell_type": "code",
   "execution_count": 39,
   "metadata": {},
   "outputs": [
    {
     "name": "stdout",
     "output_type": "stream",
     "text": [
      "20\n"
     ]
    }
   ],
   "source": [
    "j = 20\n",
    "def func():\n",
    "    print(j)\n",
    "func()\n",
    "j = 30"
   ]
  },
  {
   "cell_type": "code",
   "execution_count": 40,
   "metadata": {},
   "outputs": [
    {
     "name": "stdout",
     "output_type": "stream",
     "text": [
      "30\n",
      "5\n"
     ]
    }
   ],
   "source": [
    "k = 5\n",
    "def func2(arg = k):\n",
    "    print(arg)\n",
    "k = 30\n",
    "print(k)\n",
    "func2()"
   ]
  },
  {
   "cell_type": "code",
   "execution_count": 42,
   "metadata": {},
   "outputs": [
    {
     "name": "stdout",
     "output_type": "stream",
     "text": [
      "105\n",
      "100\n"
     ]
    }
   ],
   "source": [
    "u = 100\n",
    "def func3():\n",
    "    print(u + 5)\n",
    "    print(u)\n",
    "func3()"
   ]
  },
  {
   "cell_type": "code",
   "execution_count": 44,
   "metadata": {},
   "outputs": [
    {
     "name": "stdout",
     "output_type": "stream",
     "text": [
      "hellopython too\n",
      "hellopython\n",
      "6\n"
     ]
    }
   ],
   "source": [
    "h = 6\n",
    "def who():\n",
    "    h = 'hello'\n",
    "    def too():\n",
    "        nonlocal h\n",
    "        h += 'python'\n",
    "        print(h , 'too')\n",
    "    too()\n",
    "    print(h)\n",
    "who()\n",
    "print(h)"
   ]
  },
  {
   "cell_type": "code",
   "execution_count": null,
   "metadata": {},
   "outputs": [],
   "source": []
  }
 ],
 "metadata": {
  "kernelspec": {
   "display_name": "Python 3",
   "language": "python",
   "name": "python3"
  },
  "language_info": {
   "codemirror_mode": {
    "name": "ipython",
    "version": 3
   },
   "file_extension": ".py",
   "mimetype": "text/x-python",
   "name": "python",
   "nbconvert_exporter": "python",
   "pygments_lexer": "ipython3",
   "version": "3.6.5rc1"
  }
 },
 "nbformat": 4,
 "nbformat_minor": 2
}
